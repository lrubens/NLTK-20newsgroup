{
 "cells": [
  {
   "cell_type": "code",
   "execution_count": 72,
   "metadata": {},
   "outputs": [
    {
     "name": "stdout",
     "output_type": "stream",
     "text": [
      "All libraries imported successfully\n"
     ]
    }
   ],
   "source": [
    "import pandas as pd\n",
    "import numpy as np\n",
    "import os\n",
    "import matplotlib as plt\n",
    "import re\n",
    "import math\n",
    "from wordcloud import WordCloud\n",
    "import pyLDAvis\n",
    "import seaborn\n",
    "\n",
    "from pprint import pprint\n",
    "\n",
    "#SKYLEARN\n",
    "from sklearn.datasets import fetch_20newsgroups \n",
    "from sklearn.feature_extraction.text import TfidfVectorizer\n",
    "from sklearn.feature_extraction.text import CountVectorizer\n",
    "from sklearn.feature_extraction.text import TfidfTransformer\n",
    "\n",
    "#NTLK\n",
    "import nltk\n",
    "nltk.download('stopwords', quiet=True)\n",
    "nltk.download('words', quiet=True)\n",
    "from nltk.tokenize import regexp_tokenize, wordpunct_tokenize, RegexpTokenizer\n",
    "from nltk.tokenize import sent_tokenize, PunktSentenceTokenizer, WhitespaceTokenizer\n",
    "from nltk.tokenize import word_tokenize\n",
    "from nltk.stem import WordNetLemmatizer\n",
    "from nltk.corpus import wordnet as wn \n",
    "from nltk.corpus import stopwords\n",
    "\n",
    "#CORPORA\n",
    "import gensim\n",
    "from gensim.corpora import Dictionary\n",
    "from gensim.models import TfidfModel\n",
    "\n",
    "# Visualization\n",
    "import pyLDAvis\n",
    "import pyLDAvis.gensim  \n",
    "from sklearn.manifold import TSNE\n",
    "\n",
    "# Warnings\n",
    "import warnings\n",
    "warnings.filterwarnings(\"ignore\")\n",
    "\n",
    "print('All libraries imported successfully')"
   ]
  },
  {
   "cell_type": "code",
   "execution_count": 32,
   "metadata": {},
   "outputs": [],
   "source": [
    "def preprocess( data ):\n",
    "    newdata = []\n",
    "    for idx, x in enumerate(data): #x -- document in data \n",
    "        newdoc = \"\"\n",
    "        stop_words = stopwords.words('english')\n",
    "        words = set(nltk.corpus.words.words())\n",
    "\n",
    "        for token in sent_tokenize(x): #token -- sentence in doc\n",
    "            seperator = \" \" \n",
    "            token = re.sub('[^A-Za-z0-9]+', ' ', token) #remove special characters\n",
    "            token = re.sub(r'\\d+', '', token) #remove numbers\n",
    "            token = re.sub(r'\\b\\w{1,2}\\b', '', token) #remove words with <= 2 characters\n",
    "            #         if w.lower() in words or not w.isalpha())\n",
    "            whitespace_token = WhitespaceTokenizer().tokenize( token )\n",
    "            wo_stopwords_token = [x for x in whitespace_token\n",
    "                                  if not x in stop_words]\n",
    "            newdoc += seperator.join( (wo_stopwords_token) ).lower()\n",
    "            newdoc += \" \" \n",
    "            \n",
    "        # Word Tokens for Each Document\n",
    "        word_tokens = RegexpTokenizer('\\s+', gaps=True).tokenize(newdoc)\n",
    "        data[idx] = word_tokens \n",
    "        newdata.append( data[idx] )\n",
    "        \n",
    "    return newdata"
   ]
  },
  {
   "cell_type": "code",
   "execution_count": 33,
   "metadata": {
    "scrolled": true
   },
   "outputs": [
    {
     "name": "stdout",
     "output_type": "stream",
     "text": [
      "Loading 20 newsgroups dataset for category sci.space\n",
      "'Data Cleaned'\n"
     ]
    }
   ],
   "source": [
    "# Import and clean data\n",
    "chosen_category = 'sci.space'\n",
    "print(\"Loading 20 newsgroups dataset for category \" + chosen_category)\n",
    "newsgroups_train = fetch_20newsgroups(subset='train', categories=[chosen_category],\n",
    "                                      remove=('headers', 'footers', 'quotes'))\n",
    "newdata = preprocess(newsgroups_train.data)\n",
    "pprint(\"Data Cleaned\")"
   ]
  },
  {
   "cell_type": "code",
   "execution_count": 34,
   "metadata": {},
   "outputs": [
    {
     "name": "stdout",
     "output_type": "stream",
     "text": [
      "[(0,\n",
      "  '0.017*\"the\" + 0.006*\"space\" + 0.005*\"one\" + 0.004*\"first\" + 0.004*\"mission\" '\n",
      "  '+ 0.004*\"would\" + 0.004*\"orbit\" + 0.003*\"data\" + 0.003*\"moon\" + '\n",
      "  '0.003*\"also\"'),\n",
      " (1,\n",
      "  '0.007*\"space\" + 0.005*\"the\" + 0.005*\"earth\" + 0.004*\"nasa\" + '\n",
      "  '0.004*\"station\" + 0.004*\"van\" + 0.003*\"would\" + 0.003*\"new\" + 0.003*\"also\" '\n",
      "  '+ 0.003*\"billion\"'),\n",
      " (2,\n",
      "  '0.024*\"space\" + 0.010*\"the\" + 0.009*\"nasa\" + 0.006*\"launch\" + 0.004*\"data\" '\n",
      "  '+ 0.004*\"edu\" + 0.004*\"satellite\" + 0.004*\"shuttle\" + 0.003*\"program\" + '\n",
      "  '0.003*\"also\"'),\n",
      " (3,\n",
      "  '0.010*\"the\" + 0.009*\"would\" + 0.006*\"space\" + 0.006*\"like\" + '\n",
      "  '0.004*\"software\" + 0.003*\"could\" + 0.003*\"one\" + 0.003*\"this\" + '\n",
      "  '0.003*\"time\" + 0.003*\"much\"'),\n",
      " (4,\n",
      "  '0.008*\"space\" + 0.008*\"the\" + 0.007*\"would\" + 0.005*\"like\" + 0.004*\"get\" + '\n",
      "  '0.004*\"think\" + 0.004*\"one\" + 0.003*\"time\" + 0.003*\"people\" + 0.003*\"moon\"')]\n"
     ]
    }
   ],
   "source": [
    "# Actual Bag of Words and LDA\n",
    "dictionary = gensim.corpora.Dictionary(newdata)\n",
    "bow_corpus = [dictionary.doc2bow(doc) for doc in newdata]\n",
    "lda_model = gensim.models.LdaMulticore(bow_corpus, num_topics = 5, id2word = dictionary, passes = 10, workers = 2)\n",
    "pprint(lda_model.print_topics())"
   ]
  },
  {
   "cell_type": "code",
   "execution_count": 13,
   "metadata": {},
   "outputs": [],
   "source": [
    "# LDA Visualization\n",
    "pyLDAvis.enable_notebook()\n",
    "vis = pyLDAvis.gensim.prepare(lda_model, bow_corpus, dictionary)\n",
    "vis"
   ]
  },
  {
   "cell_type": "code",
   "execution_count": 21,
   "metadata": {},
   "outputs": [],
   "source": [
    "# TSNE Bokeh\n",
    "refactored_df = np.array([[y for (x,y) in lda_model[bow_corpus[i]]] for i in range(len(bow_corpus))])\n",
    "tsne = TSNE(perplexity=30, early_exaggeration=120)"
   ]
  },
  {
   "cell_type": "code",
   "execution_count": 35,
   "metadata": {},
   "outputs": [
    {
     "name": "stdout",
     "output_type": "stream",
     "text": [
      "term                 frequency\n",
      "\n",
      "Topic 0 |---------------------\n",
      "\n",
      "the                  0.017\n",
      "space                0.006\n",
      "one                  0.005\n",
      "first                0.004\n",
      "mission              0.004\n",
      "would                0.004\n",
      "orbit                0.004\n",
      "data                 0.003\n",
      "moon                 0.003\n",
      "also                 0.003\n",
      "Topic 1 |---------------------\n",
      "\n",
      "space                0.007\n",
      "the                  0.005\n",
      "earth                0.005\n",
      "nasa                 0.004\n",
      "station              0.004\n",
      "van                  0.004\n",
      "would                0.003\n",
      "new                  0.003\n",
      "also                 0.003\n",
      "billion              0.003\n",
      "Topic 2 |---------------------\n",
      "\n",
      "space                0.024\n",
      "the                  0.010\n",
      "nasa                 0.009\n",
      "launch               0.006\n",
      "data                 0.004\n",
      "edu                  0.004\n",
      "satellite            0.004\n",
      "shuttle              0.004\n",
      "program              0.003\n",
      "also                 0.003\n",
      "Topic 3 |---------------------\n",
      "\n",
      "the                  0.010\n",
      "would                0.009\n",
      "space                0.006\n",
      "like                 0.006\n",
      "software             0.004\n",
      "could                0.003\n",
      "one                  0.003\n",
      "this                 0.003\n",
      "time                 0.003\n",
      "much                 0.003\n",
      "Topic 4 |---------------------\n",
      "\n",
      "space                0.008\n",
      "the                  0.008\n",
      "would                0.007\n",
      "like                 0.005\n",
      "get                  0.004\n",
      "think                0.004\n",
      "one                  0.004\n",
      "time                 0.003\n",
      "people               0.003\n",
      "moon                 0.003\n"
     ]
    }
   ],
   "source": [
    "def explore_topic(lda_model, topic_number, topn, output=True):\n",
    "    terms = []\n",
    "    for term, frequency in lda_model.show_topic(topic_number, topn=topn):\n",
    "        terms += [term]\n",
    "        if output:\n",
    "            print(u'{:20} {:.3f}'.format(term, round(frequency, 3)))\n",
    "    \n",
    "    return terms\n",
    "\n",
    "topic_summaries = []\n",
    "print(u'{:20} {}'.format(u'term', u'frequency') + u'\\n')\n",
    "for i in range(5):\n",
    "    print('Topic '+str(i)+' |---------------------\\n')\n",
    "    tmp = explore_topic(lda_model,topic_number=i, topn=10, output=True )\n",
    "#     print tmp[:5]\n",
    "    topic_summaries += [tmp[:5]]\n",
    "    print"
   ]
  },
  {
   "cell_type": "code",
   "execution_count": 127,
   "metadata": {
    "scrolled": true
   },
   "outputs": [
    {
     "data": {
      "image/png": "[encoded data removed]",
      "text/plain": [
       "<Figure size 432x288 with 1 Axes>"
      ]
     },
     "metadata": {
      "needs_background": "light"
     },
     "output_type": "display_data"
    }
   ],
   "source": [
    "topicWordProbMat = lda_model.print_topics(5)\n",
    "columns = ['Topic 1','Topic 2','Topic 3','Topic 4','Topic 5']\n",
    "df = pd.DataFrame(columns = columns)\n",
    "occurance = np.zeros(shape=(40,5)) # I have zero idea why this number needs to be 40\n",
    "\n",
    "for x in range (10):\n",
    "  temp_data = pd.DataFrame({columns[0]:\"\", columns[1]:\"\", columns[2]:\"\", columns[3]:\"\", columns[4]:\"\", },index=[0])\n",
    "  df = df.append(temp_data,ignore_index = True)  \n",
    "    \n",
    "for line in topicWordProbMat:\n",
    "    tp, w = line\n",
    "    probs=w.split(\"+\")\n",
    "    y=0\n",
    "    for pr in probs:     \n",
    "        a=pr.split(\"*\")\n",
    "        df.iloc[y,tp] = a[1]\n",
    "        if a[1] in DC:\n",
    "           occurance[DC[a[1]]][tp]=a[0]\n",
    "        else:\n",
    "           occurance[last_number][tp]=a[0]\n",
    "           DC[a[1]]=last_number\n",
    "           last_number=last_number+1\n",
    "        y=y+1\n",
    "\n",
    "occurance = np.resize(occurance, (len(DC.keys()), occurance.shape[1]))\n",
    "\n",
    "for val, key in enumerate(DC.keys()):\n",
    "        plt.text(-2.5, val + 0.5, key,\n",
    "                 horizontalalignment='center',\n",
    "                 verticalalignment='center'\n",
    "                 )\n",
    "\n",
    "plt.imshow(occurance[0:10], cmap='plasma', interpolation='nearest', aspect='auto')\n",
    "plt.title('Heat Map of Word Occurance By Topic')\n",
    "plt.savefig('Heat Map.png')\n",
    "plt.show()"
   ]
  },
  {
   "cell_type": "code",
   "execution_count": null,
   "metadata": {},
   "outputs": [],
   "source": []
  }
 ],
 "metadata": {
  "kernelspec": {
   "display_name": "Python 3",
   "language": "python",
   "name": "python3"
  },
  "language_info": {
   "codemirror_mode": {
    "name": "ipython",
    "version": 3
   },
   "file_extension": ".py",
   "mimetype": "text/x-python",
   "name": "python",
   "nbconvert_exporter": "python",
   "pygments_lexer": "ipython3",
   "version": "3.7.4"
  }
 },
 "nbformat": 4,
 "nbformat_minor": 2
}

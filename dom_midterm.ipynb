{
 "cells": [
  {
   "cell_type": "code",
   "execution_count": 507,
   "metadata": {},
   "outputs": [
    {
     "name": "stderr",
     "output_type": "stream",
     "text": [
      "[nltk_data] Downloading package stopwords to\n",
      "[nltk_data]     /home/dominic/nltk_data...\n",
      "[nltk_data]   Package stopwords is already up-to-date!\n"
     ]
    }
   ],
   "source": [
    "import numpy as np\n",
    "import pandas as pd\n",
    "import matplotlib as plt\n",
    "import re\n",
    "\n",
    "from pprint import pprint\n",
    "\n",
    "#SKYLEARN\n",
    "from sklearn.datasets import fetch_20newsgroups \n",
    "from sklearn.feature_extraction.text import TfidfVectorizer\n",
    "from sklearn.feature_extraction.text import CountVectorizer\n",
    "from sklearn.feature_extraction.text import TfidfTransformer\n",
    "\n",
    "#NTLK\n",
    "import nltk\n",
    "nltk.download('stopwords')\n",
    "from nltk.tokenize import regexp_tokenize, wordpunct_tokenize, RegexpTokenizer\n",
    "from nltk.tokenize import sent_tokenize, PunktSentenceTokenizer, WhitespaceTokenizer\n",
    "from nltk.tokenize import word_tokenize\n",
    "from nltk.stem import WordNetLemmatizer\n",
    "from nltk.corpus import wordnet as wn \n",
    "from nltk.corpus import stopwords\n",
    "\n",
    "#CORPORA\n",
    "import gensim\n",
    "from gensim.corpora import Dictionary\n",
    "from gensim.models import TfidfModel\n",
    "\n"
   ]
  },
  {
   "cell_type": "code",
   "execution_count": 508,
   "metadata": {},
   "outputs": [],
   "source": [
    "\n",
    "def preprocess( data ):\n",
    "    newdata = []\n",
    "    for idx, x in enumerate(data): #x -- document in data \n",
    "        newdoc = \"\"\n",
    "        stop_words = stopwords.words('english')\n",
    "    \n",
    "        for token in sent_tokenize(x): #token -- sentence in doc\n",
    "            seperator = \" \" \n",
    "            token = re.sub('[^A-Za-z0-9]+', ' ', token) #remove special characters\n",
    "            token = re.sub(r'\\d+', '', token) #remove numbers\n",
    "            token = re.sub(r'\\b\\w{1,2}\\b', '', token) #remove words with <= 2 characters\n",
    "            whitespace_token = WhitespaceTokenizer().tokenize( token )\n",
    "            wo_stopwords_token = [x for x in whitespace_token\n",
    "                                  if not x in stop_words]\n",
    "            newdoc += seperator.join( (wo_stopwords_token) ).lower()\n",
    "            newdoc += \" \"                       \n",
    "        data[idx] = newdoc     \n",
    "    return data\n"
   ]
  },
  {
   "cell_type": "code",
   "execution_count": 509,
   "metadata": {},
   "outputs": [],
   "source": [
    "def tf_idf( data ):\n",
    "    tfidf_vectorizer = TfidfVectorizer(max_features=4000, analyzer='word', use_idf=True)\n",
    "    tfidf_vectorizer_vectors = tfidf_vectorizer.fit_transform(data)\n",
    "  \n",
    "    first_vector_tfidfvectorizer=tfidf_vectorizer_vectors[0]\n",
    "\n",
    "    df_idf = pd.DataFrame(tfidf_vectorizer.idf_, index=tfidf_vectorizer.get_feature_names(),columns=[\"idf_weights\"])\n",
    "    df_idf.sort_values(by=['idf_weights'], ascending=False)\n",
    "    pprint(df_idf)"
   ]
  },
  {
   "cell_type": "code",
   "execution_count": 510,
   "metadata": {
    "scrolled": false
   },
   "outputs": [
    {
     "name": "stdout",
     "output_type": "stream",
     "text": [
      "Loading 20 newsgroups dataset for categories:\n",
      "('/ hpcc01:rec.motorcycles / Stafford@Vax2.Winona.MSUS.Edu (John Stafford) / '\n",
      " '11:06 am  Apr  1, 1993 /\\n'\n",
      " ' \\n'\n",
      " '\\n'\n",
      " '  It depreciates much faster, too.\\n'\n",
      " '   \\n'\n",
      " '====================================================\\n'\n",
      " 'John Stafford   Minnesota State University @ Winona\\n'\n",
      " '                    All standard disclaimers apply.\\n'\n",
      " '----------\\n'\n",
      " \"The '84 GL1200A hit the traps at 13.34 according to Cycle magazine. Yeah,\\n\"\n",
      " 'they depreciate faster than Harleys for the first couple of years then\\n'\n",
      " \"they bottom out. Got my '86 GL1200I w/ 2275 miles on the odometer for\\n\"\n",
      " 'just under $5K in May of 1990 and would ask for $4500 now with almost\\n'\n",
      " \"16K miles onnit....that's about 50% of what a new GL1500I would cost.\\n\"\n",
      " '\\n'\n",
      " \"Think the '86 GL1200I originally sold for $6500 brand new, not sure. \\n\"\n",
      " \"If that's the case then it depreciated 30.77% over 7 years or a mere\\n\"\n",
      " '$2000. Big Fat Hairy Deal! Based on what I know, Harleys tend to\\n'\n",
      " 'depreciate your monies far more than the initial depreciation of\\n'\n",
      " 'the bike itself when it comes to parts and service. All this about\\n'\n",
      " \"Harleys holding their value better doesn't always wash away the\\n\"\n",
      " 'knocks on them...such as being much slower. ;-) \\n'\n",
      " '\\n'\n",
      " 'According to Peter Egan in the just released Cycle World his FLHS is a\\n'\n",
      " 'real dog when he pillions his 120lb wife. All that money for a dog that\\n'\n",
      " \"doesn't defecate much. =:-]  \\n\"\n",
      " '--------------------------------------------------------------------------\\n'\n",
      " 'Graeme Harrison, Hewlett-Packard Co., Communications Components Division,\\n'\n",
      " '350 W Trimble Rd, San Jose, CA 95131 (gharriso@hpcc01.corp.hp.com) DoD#649 ')\n",
      "'------ NEW DATA ---------'\n",
      "('hpcc rec motorcycles stafford vax winona msus edu john stafford apr '\n",
      " 'depreciates much faster john stafford minnesota state university winona all '\n",
      " 'standard disclaimers apply the gla hit traps according cycle magazine yeah '\n",
      " 'depreciate faster harleys first couple years bottom got gli miles odometer '\n",
      " 'may would ask almost miles onnit new gli would cost think gli originally '\n",
      " 'sold brand new sure case depreciated years mere big fat hairy deal based '\n",
      " 'know harleys tend depreciate monies far initial depreciation bike comes '\n",
      " 'parts service all harleys holding value better always wash away knocks much '\n",
      " 'slower according peter egan released cycle world flhs real dog pillions wife '\n",
      " 'all money dog defecate much graeme harrison hewlett packard communications '\n",
      " 'components division trimble san jose gharriso hpcc corp com dod ')\n"
     ]
    }
   ],
   "source": [
    "print(\"Loading 20 newsgroups dataset for categories:\")\n",
    "#pprint(list(newsgroups_train.target_names))\n",
    "\n",
    "newsgroups_train = fetch_20newsgroups(subset='train',\n",
    "                                      remove=('headers', 'footers', 'quotes'))\n",
    "\n",
    "pprint(newsgroups_train.data[102])\n",
    "\n",
    "newdata = preprocess( newsgroups_train.data );\n",
    "\n",
    "pprint(\"------ NEW DATA ---------\")\n",
    "pprint( newdata[102] )\n",
    "\n",
    "#tf_idf( newdata )\n"
   ]
  }
 ],
 "metadata": {
  "kernelspec": {
   "display_name": "Python 3",
   "language": "python",
   "name": "python3"
  },
  "language_info": {
   "codemirror_mode": {
    "name": "ipython",
    "version": 3
   },
   "file_extension": ".py",
   "mimetype": "text/x-python",
   "name": "python",
   "nbconvert_exporter": "python",
   "pygments_lexer": "ipython3",
   "version": "3.7.3"
  }
 },
 "nbformat": 4,
 "nbformat_minor": 4
}

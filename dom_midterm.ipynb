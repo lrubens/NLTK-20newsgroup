{
 "cells": [
  {
   "cell_type": "code",
   "execution_count": 599,
   "metadata": {},
   "outputs": [
    {
     "name": "stderr",
     "output_type": "stream",
     "text": [
      "[nltk_data] Downloading package stopwords to\n",
      "[nltk_data]     /home/dominic/nltk_data...\n",
      "[nltk_data]   Package stopwords is already up-to-date!\n",
      "[nltk_data] Downloading package words to /home/dominic/nltk_data...\n",
      "[nltk_data]   Package words is already up-to-date!\n"
     ]
    }
   ],
   "source": [
    "import pandas as pd\n",
    "import numpy as np\n",
    "import os\n",
    "import matplotlib as plt\n",
    "import re\n",
    "from wordcloud import WordCloud\n",
    "\n",
    "from pprint import pprint\n",
    "\n",
    "#SKYLEARN\n",
    "from sklearn.datasets import fetch_20newsgroups \n",
    "from sklearn.feature_extraction.text import TfidfVectorizer\n",
    "from sklearn.feature_extraction.text import CountVectorizer\n",
    "from sklearn.feature_extraction.text import TfidfTransformer\n",
    "\n",
    "#NTLK\n",
    "import nltk\n",
    "nltk.download('stopwords')\n",
    "nltk.download('words')\n",
    "from nltk.tokenize import regexp_tokenize, wordpunct_tokenize, RegexpTokenizer\n",
    "from nltk.tokenize import sent_tokenize, PunktSentenceTokenizer, WhitespaceTokenizer\n",
    "from nltk.tokenize import word_tokenize\n",
    "from nltk.stem import WordNetLemmatizer\n",
    "from nltk.corpus import wordnet as wn \n",
    "from nltk.corpus import stopwords\n",
    "\n",
    "#CORPORA\n",
    "import gensim\n",
    "from gensim.corpora import Dictionary\n",
    "from gensim.models import TfidfModel\n",
    "\n"
   ]
  },
  {
   "cell_type": "code",
   "execution_count": 600,
   "metadata": {},
   "outputs": [],
   "source": [
    "\n",
    "def preprocess( data ):\n",
    "    newdata = []\n",
    "    for idx, x in enumerate(data): #x -- document in data \n",
    "        newdoc = \"\"\n",
    "        stop_words = stopwords.words('english')\n",
    "        words = set(nltk.corpus.words.words())\n",
    "\n",
    "        for token in sent_tokenize(x): #token -- sentence in doc\n",
    "            seperator = \" \" \n",
    "            token = re.sub('[^A-Za-z0-9]+', ' ', token) #remove special characters\n",
    "            token = re.sub(r'\\d+', '', token) #remove numbers\n",
    "            token = re.sub(r'\\b\\w{1,2}\\b', '', token) #remove words with <= 2 characters\n",
    "            #token = \" \".join(w for w in nltk.wordpunct_tokenize(token) \\\n",
    "            #         if w.lower() in words or not w.isalpha())\n",
    "            whitespace_token = WhitespaceTokenizer().tokenize( token )\n",
    "            wo_stopwords_token = [x for x in whitespace_token\n",
    "                                  if not x in stop_words]\n",
    "            newdoc += seperator.join( (wo_stopwords_token) ).lower()\n",
    "            newdoc += \" \" \n",
    "        #create word tokens for each document\n",
    "        word_tokens = RegexpTokenizer('\\s+', gaps=True).tokenize(newdoc)\n",
    "        \n",
    "        data[idx] = word_tokens \n",
    "        newdata.append( data[idx] )\n",
    "    return newdata\n"
   ]
  },
  {
   "cell_type": "code",
   "execution_count": 601,
   "metadata": {},
   "outputs": [],
   "source": [
    "def tf_idf( data ):\n",
    "    \n",
    "    dictionary = Dictionary(data)\n",
    "    pprint(\"Dictionary Loaded\")\n",
    "    bow_corpus = [dictionary.doc2bow(doc) for doc in data]\n",
    "    \n",
    "    for idx, doc in enumerate(data):\n",
    "        data[idx] = \" \".join(doc)\n",
    "    \n",
    "  \n",
    "    tfidf_vectorizer = TfidfVectorizer(max_features=4000, analyzer='word', use_idf=True)\n",
    "    tfidf_vectorizer_vectors = tfidf_vectorizer.fit_transform(data)\n",
    "    #pprint(tfidf_vectoriz)\n",
    "    #first_vector_tfidfvectorizer=tfidf_vectorizer_vectors[0]\n",
    "    \n",
    "    #df_idf = pd.DataFrame(tfidf_vectorizer.idf_, index=tfidf_vectorizer.get_feature_names(),columns=[\"idf_weights\"])\n",
    "    #df_idf.sort_values(by=['idf_weights'], ascending=False)\n",
    "    #pprint(df_idf)\n",
    "    \n",
    "    names = tfidf_vectorizer.get_feature_names()\n",
    "    tf_weights = tfidf_vectorizer.idf_\n",
    "    tfidf = TfidfModel(bow_corpus)\n",
    "    # Get TF-IDF weights\n",
    "    weights = tfidf[bow_corpus[0]]\n",
    "    \n",
    "    weights = dict([(dictionary[pair[0]], pair[1]) for pair in weights])\n",
    "    #pprint(list(names[:10]))\n",
    "    #weights = dict(zip(names, tf_weights))\n",
    "   # pprint(list(weights[:10]))\n",
    "    \n",
    "    wc = WordCloud(\n",
    "    background_color=\"white\",\n",
    "    max_words=2000,\n",
    "    width = 1024,\n",
    "    height = 720,\n",
    "    )\n",
    "\n",
    "    # Generate the cloud\n",
    "    wc.generate_from_frequencies(weights)\n",
    "\n",
    "    # Save the could to a file\n",
    "    wc.to_file(\"word_cloud.png\")"
   ]
  },
  {
   "cell_type": "code",
   "execution_count": 602,
   "metadata": {},
   "outputs": [],
   "source": [
    "def bag_of_words(data):\n",
    "    dictionary = Dictionary(data)\n",
    "    pprint(\"Dictionary Loaded\")\n",
    "    bow_corpus = [dictionary.doc2bow(doc) for doc in data]\n",
    "    \n",
    "    pprint(\"----------------NEW----------------\")\n",
    "    pprint(len(dictionary))\n",
    "    \n",
    "    vocab = list(dictionary.values()) #list of terms in the dictionary\n",
    "    \n",
    "    vocab_tf = [dict(i) for i in bow_corpus]\n",
    "    vocab_tf = list(pd.DataFrame(vocab_tf).sum(axis=0)) #list of term frequencies\n",
    "    \n",
    "    bow = pd.DataFrame(vocab_tf, index=vocab, columns=[\"term_freq\"])\n",
    "    pprint(bow)"
   ]
  },
  {
   "cell_type": "code",
   "execution_count": 603,
   "metadata": {
    "scrolled": false
   },
   "outputs": [
    {
     "name": "stdout",
     "output_type": "stream",
     "text": [
      "Loading 20 newsgroups dataset for categories:\n",
      "('\\n'\n",
      " '\\n'\n",
      " '        Let us hope that the performance of the spacecraft follows the\\n'\n",
      " 'sentiments of the first verse (miner) rather than the second (lost and gone\\n'\n",
      " 'forever).\\n')\n",
      "' ------ CLEANED DATA --------- '\n",
      "['let',\n",
      " 'hope',\n",
      " 'performance',\n",
      " 'spacecraft',\n",
      " 'follows',\n",
      " 'sentiments',\n",
      " 'first',\n",
      " 'verse',\n",
      " 'miner',\n",
      " 'rather',\n",
      " 'second',\n",
      " 'lost',\n",
      " 'gone',\n",
      " 'forever']\n"
     ]
    }
   ],
   "source": [
    "print(\"Loading 20 newsgroups dataset for categories:\")\n",
    "#pprint(list(newsgroups_train.target_names))\n",
    "\n",
    "newsgroups_train = fetch_20newsgroups(subset='train', categories=['sci.space'],\n",
    "                                      remove=('headers', 'footers', 'quotes'))\n",
    "\n",
    "pprint(newsgroups_train.data[102])\n",
    "pprint(\" ------ CLEANED DATA --------- \")\n",
    "\n",
    "newdata = preprocess( newsgroups_train.data );\n",
    "pprint( newdata[102] )\n",
    "#pprint(list(newdata[:10]))\n"
   ]
  },
  {
   "cell_type": "code",
   "execution_count": 604,
   "metadata": {},
   "outputs": [],
   "source": [
    "#tf_idf( newdata )\n",
    "#bag_of_words( newdata )\n"
   ]
  }
 ],
 "metadata": {
  "kernelspec": {
   "display_name": "Python 3",
   "language": "python",
   "name": "python3"
  },
  "language_info": {
   "codemirror_mode": {
    "name": "ipython",
    "version": 3
   },
   "file_extension": ".py",
   "mimetype": "text/x-python",
   "name": "python",
   "nbconvert_exporter": "python",
   "pygments_lexer": "ipython3",
   "version": "3.7.3"
  }
 },
 "nbformat": 4,
 "nbformat_minor": 4
}
